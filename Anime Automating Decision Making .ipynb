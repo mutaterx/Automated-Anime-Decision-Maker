{
 "cells": [
  {
   "cell_type": "markdown",
   "id": "5a4fea39",
   "metadata": {},
   "source": [
    "# Automated Decision making"
   ]
  },
  {
   "cell_type": "markdown",
   "id": "fdaf16c1",
   "metadata": {},
   "source": [
    "This code generates anime suggestions for those who cannot decide on what to watch. "
   ]
  },
  {
   "cell_type": "markdown",
   "id": "63381e30",
   "metadata": {},
   "source": [
    "**Skills**\n",
    "- Lists\n",
    "- Random Module\n",
    "- Functions\n",
    "- Pandas"
   ]
  },
  {
   "cell_type": "markdown",
   "id": "92a9efa9",
   "metadata": {},
   "source": [
    "# Automated Decision using: a list "
   ]
  },
  {
   "cell_type": "code",
   "execution_count": 4,
   "id": "511ffb0d",
   "metadata": {},
   "outputs": [
    {
     "data": {
      "text/plain": [
       "'naruto'"
      ]
     },
     "execution_count": 4,
     "metadata": {},
     "output_type": "execute_result"
    }
   ],
   "source": [
    "from random import choice\n",
    "\n",
    "# Create anime list\n",
    "animes = ['demon slayer', 'naruto', 'one piece', 'haikyuu', 'jujutsu kaisen']\n",
    "\n",
    "# print a random anime from anime list\n",
    "choice(animes)"
   ]
  },
  {
   "cell_type": "markdown",
   "id": "894f9eee",
   "metadata": {},
   "source": [
    "# Automated Decision using : nested lists"
   ]
  },
  {
   "cell_type": "markdown",
   "id": "9143637a",
   "metadata": {},
   "source": [
    "0: name of anime <br>\n",
    "1: type of anime (shonen, seinen, shojo, movie)<br>\n",
    "2: genre (dark fantasy, fantasy, action, adventure, sports, steampunk, comedy, romance)<br>\n",
    "3: mood (emotional, emotional-funny, funny, happy, romantic)<br>\n",
    "4: series or movie"
   ]
  },
  {
   "cell_type": "code",
   "execution_count": 30,
   "id": "40d20011",
   "metadata": {},
   "outputs": [
    {
     "name": "stdout",
     "output_type": "stream",
     "text": [
      "what type of anime do you want to watch: shonen, seinen or shojo ? \n",
      "shonen\n",
      "what type of genre do you want to watch: dark fantasy, action, adventure, sports, steampunk, comedy, romance? \n",
      "sdf\n",
      "what mood are you in: emotional, emotional-funny, funny, happy, romantic? \n",
      "emotional\n",
      "Do you want to want something long or short ? \n",
      "long\n",
      "I'm sorry I didn't understand what you inputted\n",
      "I'm sorry I didn't understand what you inputted\n",
      "I'm sorry I didn't understand what you inputted\n",
      "I'm sorry I didn't understand what you inputted\n",
      "I'm sorry I didn't understand what you inputted\n",
      "I'm sorry I didn't understand what you inputted\n",
      "I'm sorry I didn't understand what you inputted\n",
      "I'm sorry I didn't understand what you inputted\n",
      "I'm sorry I didn't understand what you inputted\n",
      "I'm sorry I didn't understand what you inputted\n",
      "I'm sorry I didn't understand what you inputted\n",
      "I'm sorry I didn't understand what you inputted\n"
     ]
    }
   ],
   "source": [
    "# Create the anime list with other lists inside\n",
    "animes = [['demon slayer', 'shonen', 'dark fantasy', 'emotional', 'series'], \n",
    "          ['naruto', 'shonen', 'action', 'emotional-funny', 'series'], \n",
    "          ['one piece', 'shonen', 'adventure', 'emotional-funny', 'series'],\n",
    "          ['haikyuu', 'shonen', 'sports', 'emotional', 'series'],\n",
    "          ['jujutsu kaisen', 'shonen', 'dark fantasy', 'emotional-funny', 'series'],\n",
    "         ['full-mental alchemist', 'shonen', 'steampunk', 'emotional', 'series'],\n",
    "         ['dorohedoro', 'seinen', 'dark fantasy', 'funny', 'series'],\n",
    "         ['chainsawman', 'seinen', 'dark fantasy', 'emotional-funny', 'series'],\n",
    "         ['Sket dance', 'shonen', 'comedy', 'funny', 'series'],\n",
    "         ['blue spring ride', 'shojo', 'romance', 'romantic', 'series'],\n",
    "         ['spirited away', 'movie', 'fantasy', 'happy', 'movie'],\n",
    "         ['the cat returns', 'movie', 'animals', 'happy', 'movie']]\n",
    "\n",
    "# input type of anime\n",
    "print(\"what type of anime do you want to watch: shonen, seinen or shojo ? \")\n",
    "type = input()\n",
    "\n",
    "# input type of genre\n",
    "print(\"what type of genre do you want to watch: dark fantasy, action, adventure, sports, steampunk, comedy, romance? \")\n",
    "genre = input()\n",
    "\n",
    "# input mood\n",
    "print(\"what mood are you in: emotional, emotional-funny, funny, happy, romantic? \")\n",
    "mood = input()\n",
    "\n",
    "# input series or movie\n",
    "print(\"Do you want to want something long or short ? \")\n",
    "length = input()\n",
    "\n",
    "\n",
    "# loop through list animes and find matching inputs\n",
    "for i in animes:\n",
    "    if i[1] == type and i[2] == genre and i[3] == mood and i[4]== length:\n",
    "        print(\"I recommend watching: \"+ i[0])\n",
    "    else: \n",
    "        print(\"I'm sorry I didn't understand what you inputted\")\n",
    "\n"
   ]
  },
  {
   "cell_type": "markdown",
   "id": "ea5790ea",
   "metadata": {},
   "source": [
    "# Automated Decision using : pandas dataframe"
   ]
  },
  {
   "cell_type": "code",
   "execution_count": 27,
   "id": "d19dbdd9",
   "metadata": {},
   "outputs": [
    {
     "data": {
      "text/html": [
       "<div>\n",
       "<style scoped>\n",
       "    .dataframe tbody tr th:only-of-type {\n",
       "        vertical-align: middle;\n",
       "    }\n",
       "\n",
       "    .dataframe tbody tr th {\n",
       "        vertical-align: top;\n",
       "    }\n",
       "\n",
       "    .dataframe thead th {\n",
       "        text-align: right;\n",
       "    }\n",
       "</style>\n",
       "<table border=\"1\" class=\"dataframe\">\n",
       "  <thead>\n",
       "    <tr style=\"text-align: right;\">\n",
       "      <th></th>\n",
       "      <th>anime_name</th>\n",
       "      <th>type</th>\n",
       "      <th>genre</th>\n",
       "      <th>mood</th>\n",
       "      <th>length</th>\n",
       "    </tr>\n",
       "  </thead>\n",
       "  <tbody>\n",
       "    <tr>\n",
       "      <th>0</th>\n",
       "      <td>demon slayer</td>\n",
       "      <td>shonen</td>\n",
       "      <td>dark fantasy</td>\n",
       "      <td>emotional</td>\n",
       "      <td>series</td>\n",
       "    </tr>\n",
       "    <tr>\n",
       "      <th>1</th>\n",
       "      <td>naruto</td>\n",
       "      <td>shonen</td>\n",
       "      <td>action</td>\n",
       "      <td>emotional-funny</td>\n",
       "      <td>series</td>\n",
       "    </tr>\n",
       "    <tr>\n",
       "      <th>2</th>\n",
       "      <td>one piece</td>\n",
       "      <td>shonen</td>\n",
       "      <td>adventure</td>\n",
       "      <td>emotional-funny</td>\n",
       "      <td>series</td>\n",
       "    </tr>\n",
       "    <tr>\n",
       "      <th>3</th>\n",
       "      <td>haikyuu</td>\n",
       "      <td>shonen</td>\n",
       "      <td>sports</td>\n",
       "      <td>emotional</td>\n",
       "      <td>series</td>\n",
       "    </tr>\n",
       "    <tr>\n",
       "      <th>4</th>\n",
       "      <td>jujutsu kaisen</td>\n",
       "      <td>shonen</td>\n",
       "      <td>dark fantasy</td>\n",
       "      <td>emotional-funny</td>\n",
       "      <td>series</td>\n",
       "    </tr>\n",
       "    <tr>\n",
       "      <th>5</th>\n",
       "      <td>full-mental alchemist</td>\n",
       "      <td>shonen</td>\n",
       "      <td>steampunk</td>\n",
       "      <td>emotional</td>\n",
       "      <td>series</td>\n",
       "    </tr>\n",
       "    <tr>\n",
       "      <th>6</th>\n",
       "      <td>dorohedoro</td>\n",
       "      <td>seinen</td>\n",
       "      <td>dark fantasy</td>\n",
       "      <td>funny</td>\n",
       "      <td>series</td>\n",
       "    </tr>\n",
       "    <tr>\n",
       "      <th>7</th>\n",
       "      <td>chainsawman</td>\n",
       "      <td>seinen</td>\n",
       "      <td>dark fantasy</td>\n",
       "      <td>emotional-funny</td>\n",
       "      <td>series</td>\n",
       "    </tr>\n",
       "    <tr>\n",
       "      <th>8</th>\n",
       "      <td>Sket dance</td>\n",
       "      <td>shonen</td>\n",
       "      <td>comedy</td>\n",
       "      <td>funny</td>\n",
       "      <td>series</td>\n",
       "    </tr>\n",
       "    <tr>\n",
       "      <th>9</th>\n",
       "      <td>blue spring ride</td>\n",
       "      <td>shojo</td>\n",
       "      <td>romance</td>\n",
       "      <td>romantic</td>\n",
       "      <td>series</td>\n",
       "    </tr>\n",
       "    <tr>\n",
       "      <th>10</th>\n",
       "      <td>spirited away</td>\n",
       "      <td>movie</td>\n",
       "      <td>fantasy</td>\n",
       "      <td>happy</td>\n",
       "      <td>movie</td>\n",
       "    </tr>\n",
       "    <tr>\n",
       "      <th>11</th>\n",
       "      <td>the cat returns</td>\n",
       "      <td>movie</td>\n",
       "      <td>animals</td>\n",
       "      <td>happy</td>\n",
       "      <td>movie</td>\n",
       "    </tr>\n",
       "  </tbody>\n",
       "</table>\n",
       "</div>"
      ],
      "text/plain": [
       "               anime_name    type         genre             mood  length\n",
       "0            demon slayer  shonen  dark fantasy        emotional  series\n",
       "1                  naruto  shonen        action  emotional-funny  series\n",
       "2               one piece  shonen     adventure  emotional-funny  series\n",
       "3                 haikyuu  shonen        sports        emotional  series\n",
       "4          jujutsu kaisen  shonen  dark fantasy  emotional-funny  series\n",
       "5   full-mental alchemist  shonen     steampunk        emotional  series\n",
       "6              dorohedoro  seinen  dark fantasy            funny  series\n",
       "7             chainsawman  seinen  dark fantasy  emotional-funny  series\n",
       "8              Sket dance  shonen        comedy            funny  series\n",
       "9        blue spring ride   shojo       romance         romantic  series\n",
       "10          spirited away   movie       fantasy            happy   movie\n",
       "11        the cat returns   movie       animals            happy   movie"
      ]
     },
     "execution_count": 27,
     "metadata": {},
     "output_type": "execute_result"
    }
   ],
   "source": [
    "import pandas as pd\n",
    "\n",
    "# Creating the dataframe from the anime list I made\n",
    "animes_df = pd.DataFrame(animes, columns = ['anime_name', 'type', 'genre', 'mood', 'length'])\n",
    "\n",
    "animes_df"
   ]
  },
  {
   "cell_type": "code",
   "execution_count": null,
   "id": "7724d09f",
   "metadata": {},
   "outputs": [],
   "source": []
  }
 ],
 "metadata": {
  "kernelspec": {
   "display_name": "Python 3 (ipykernel)",
   "language": "python",
   "name": "python3"
  },
  "language_info": {
   "codemirror_mode": {
    "name": "ipython",
    "version": 3
   },
   "file_extension": ".py",
   "mimetype": "text/x-python",
   "name": "python",
   "nbconvert_exporter": "python",
   "pygments_lexer": "ipython3",
   "version": "3.9.12"
  }
 },
 "nbformat": 4,
 "nbformat_minor": 5
}
